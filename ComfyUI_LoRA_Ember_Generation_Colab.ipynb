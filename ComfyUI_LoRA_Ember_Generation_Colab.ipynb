
{
 "cells": [
  {
   "cell_type": "markdown",
   "metadata": {},
   "source": [
    "# 🔥 ComfyUI + LoRA en Google Colab (Especial Ember)
",
    "Este notebook te permite generar imágenes con tu modelo LoRA de Ember, usando ComfyUI en la nube."
   ]
  },
  {
   "cell_type": "code",
   "metadata": {},
   "source": [
    "# 🔧 1. Montar Google Drive
",
    "from google.colab import drive
",
    "drive.mount('/content/drive')"
   ],
   "execution_count": null,
   "outputs": []
  },
  {
   "cell_type": "code",
   "metadata": {},
   "source": [
    "# 📦 2. Instalar ComfyUI y dependencias
",
    "!apt -y install -qq aria2
",
    "!git clone https://github.com/comfyanonymous/ComfyUI.git
",
    "!pip install torch torchvision torchaudio --index-url https://download.pytorch.org/whl/cu118
",
    "!pip install -r ComfyUI/requirements.txt"
   ],
   "execution_count": null,
   "outputs": []
  },
  {
   "cell_type": "code",
   "metadata": {},
   "source": [
    "# 🧠 3. Copiar tus modelos desde Drive (modifica el path si es necesario)
",
    "%cd ComfyUI
",
    "!mkdir -p models/checkpoints
",
    "!mkdir -p models/loras
",
    "!cp "/content/drive/MyDrive/Loras/ember/output/ember-10.safetensors" models/loras/"
   ],
   "execution_count": null,
   "outputs": []
  },
  {
   "cell_type": "code",
   "metadata": {},
   "source": [
    "# 🚀 4. Ejecutar ComfyUI
",
    "!python main.py --cpu --port 8188"
   ],
   "execution_count": null,
   "outputs": []
  }
 ],
 "metadata": {
  "kernelspec": {
   "display_name": "Python 3",
   "language": "python",
   "name": "python3"
  },
  "language_info": {
   "name": "python"
  }
 },
 "nbformat": 4,
 "nbformat_minor": 2
}
